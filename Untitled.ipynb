{
 "cells": [
  {
   "cell_type": "code",
   "execution_count": 1,
   "id": "606c79f6-d9f4-4ad6-bc42-8967023f3e28",
   "metadata": {},
   "outputs": [
    {
     "data": {
      "text/plain": [
       "(1, 16777216)"
      ]
     },
     "execution_count": 1,
     "metadata": {},
     "output_type": "execute_result"
    }
   ],
   "source": [
    "import tifftools\n",
    "from libtiff import TIFFfile # Use pylibtiff, not the standard pip install libtiff\n",
    "import numpy as np\n",
    "\n",
    "filename = \"test006 1.flim\"\n",
    "\n",
    "#info : dict = tifftools.read_tiff(filename)\n",
    "tif = TIFFfile(filename)\n",
    "\n",
    "\n",
    "arr = tif.get_tiff_array()\n",
    "\n",
    "\n",
    "arr.planes[20][...,:].shape"
   ]
  },
  {
   "cell_type": "code",
   "execution_count": 12,
   "id": "34f10aa7-8254-462f-91fd-e4111489b080",
   "metadata": {},
   "outputs": [
    {
     "data": {
      "text/plain": [
       "<matplotlib.image.AxesImage at 0x18197ebe0>"
      ]
     },
     "execution_count": 12,
     "metadata": {},
     "output_type": "execute_result"
    },
    {
     "data": {
      "image/png": "[encoded data removed]",
      "text/plain": [
       "<Figure size 432x288 with 1 Axes>"
      ]
     },
     "metadata": {
      "needs_background": "light"
     },
     "output_type": "display_data"
    }
   ],
   "source": [
    "import flympy\n",
    "import matplotlib.pyplot as plt\n",
    "\n",
    "#filename = \"test006 1.flim\"\n",
    "#filename = \"NP5XXMCamuiStimRepROI013.flim\"\n",
    "filename = \"NP5XXMCamuiStimRepROI012.flim\"\n",
    "\n",
    "fr = flympy.FlimReader(filename)\n",
    "\n",
    "fr.get_time() # returns time value in seconds (relative to first frame)\n",
    "\n",
    "imz = fr.get_intensity(frames=20)\n",
    "\n",
    "plt.imshow(imz[0,0,...])"
   ]
  },
  {
   "cell_type": "code",
   "execution_count": 2,
   "id": "df4ccbff-79e5-4430-b7f6-da8d16b701c4",
   "metadata": {},
   "outputs": [],
   "source": [
    "hist = fr.get_histogram(color=0)"
   ]
  },
  {
   "cell_type": "code",
   "execution_count": 47,
   "id": "d58f926f-e979-4ef8-9e12-c054fc28eb55",
   "metadata": {},
   "outputs": [
    {
     "data": {
      "text/plain": [
       " barrier_parameter: 2.048000000000001e-09\n",
       " barrier_tolerance: 2.048000000000001e-09\n",
       "          cg_niter: 561\n",
       "      cg_stop_cond: 1\n",
       "            constr: [array([1.]), array([3.  , 0.5 , 6.  , 0.5 , 3.  , 0.03])]\n",
       "       constr_nfev: [0, 0]\n",
       "       constr_nhev: [0, 0]\n",
       "       constr_njev: [0, 0]\n",
       "    constr_penalty: 1.0\n",
       "  constr_violation: 0.0\n",
       "    execution_time: 0.18990802764892578\n",
       "               fun: 103356312.59860978\n",
       "              grad: array([-5.25019600e+06,  8.58068000e+05, -1.09749752e+08, -2.09657727e+08,\n",
       "       -2.14536950e+07,  0.00000000e+00])\n",
       "               jac: [array([[0., 1., 0., 1., 0., 0.]]), array([[1., 0., 0., 0., 0., 0.],\n",
       "       [0., 1., 0., 0., 0., 0.],\n",
       "       [0., 0., 1., 0., 0., 0.],\n",
       "       [0., 0., 0., 1., 0., 0.],\n",
       "       [0., 0., 0., 0., 1., 0.],\n",
       "       [0., 0., 0., 0., 0., 1.]])]\n",
       "   lagrangian_grad: array([-4.72517640e+06,  1.16953219e+07, -1.06783543e+08, -1.16953219e+07,\n",
       "       -1.93083255e+07, -6.13847537e-11])\n",
       "           message: '`xtol` termination condition is satisfied.'\n",
       "            method: 'tr_interior_point'\n",
       "              nfev: 35\n",
       "              nhev: 0\n",
       "               nit: 125\n",
       "             niter: 125\n",
       "              njev: 5\n",
       "        optimality: 106783542.97297297\n",
       "            status: 2\n",
       "           success: True\n",
       "         tr_radius: 1.0000000000000005e-09\n",
       "                 v: [array([1.04399829e+08]), array([ 5.25019600e+05, -9.35625756e+07,  2.96620953e+06,  9.35625756e+07,\n",
       "        2.14536950e+06, -6.13847537e-11])]\n",
       "                 x: array([3.  , 0.5 , 6.  , 0.5 , 3.  , 0.03])"
      ]
     },
     "execution_count": 47,
     "metadata": {},
     "output_type": "execute_result"
    }
   ],
   "source": [
    "from flympy.math.flim import FLIMParams\n",
    "\n",
    "fp = FLIMParams()\n",
    "\n",
    "\n",
    "fp.fit_to_data(hist,\n",
    "    negative_scope = 1.0\n",
    ")"
   ]
  },
  {
   "cell_type": "code",
   "execution_count": 48,
   "id": "f5b24349",
   "metadata": {},
   "outputs": [
    {
     "data": {
      "text/plain": [
       "[<matplotlib.lines.Line2D at 0x18179b730>,\n",
       " <matplotlib.lines.Line2D at 0x18179b820>]"
      ]
     },
     "execution_count": 48,
     "metadata": {},
     "output_type": "execute_result"
    },
    {
     "data": {
      "image/png": "[encoded data removed]",
      "text/plain": [
       "<Figure size 432x288 with 1 Axes>"
      ]
     },
     "metadata": {
      "needs_background": "light"
     },
     "output_type": "display_data"
    }
   ],
   "source": [
    "import numpy as np\n",
    "x_axis = np.arange(len(hist))\n",
    "plt.semilogy(\n",
    "    x_axis,\n",
    "    hist,\n",
    "    'o',\n",
    "    x_axis,\n",
    "    np.sum(hist)*fp.probability_dist(np.arange(len(hist)),negative_scope = 1.0),\n",
    "    '--',\n",
    ")\n"
   ]
  },
  {
   "cell_type": "code",
   "execution_count": 14,
   "id": "1f31dc9c-37b9-447a-9b1f-535373a70633",
   "metadata": {},
   "outputs": [
    {
     "data": {
      "text/plain": [
       "[<matplotlib.lines.Line2D at 0x185a91280>]"
      ]
     },
     "execution_count": 14,
     "metadata": {},
     "output_type": "execute_result"
    },
    {
     "data": {
      "image/png": "[encoded data removed]",
      "text/plain": [
       "<Figure size 432x288 with 1 Axes>"
      ]
     },
     "metadata": {
      "needs_background": "light"
     },
     "output_type": "display_data"
    }
   ],
   "source": [
    "plt.plot(np.sum(fr.get_intensity(),axis=(1,2,3,4)))"
   ]
  },
  {
   "cell_type": "code",
   "execution_count": 41,
   "id": "84dc273e-b0da-442b-9a8c-7180de84479e",
   "metadata": {},
   "outputs": [
    {
     "data": {
      "text/plain": [
       "[<matplotlib.lines.Line2D at 0x185a39760>]"
      ]
     },
     "execution_count": 41,
     "metadata": {},
     "output_type": "execute_result"
    },
    {
     "data": {
      "image/png": "[encoded data removed]",
      "text/plain": [
       "<Figure size 432x288 with 1 Axes>"
      ]
     },
     "metadata": {
      "needs_background": "light"
     },
     "output_type": "display_data"
    }
   ],
   "source": [
    "lp = np.sum(fr.get_flim_array(),axis=(1,2,3,4))\n",
    "\n",
    "plt.plot(\n",
    "    fr.get_time(),\n",
    "    np.matmul(lp,np.array([0.2*n for n in range(lp.shape[-1])]))/np.sum(lp,axis=-1),\n",
    "    'o'\n",
    ")"
   ]
  },
  {
   "cell_type": "code",
   "execution_count": 45,
   "id": "9d200bc4",
   "metadata": {},
   "outputs": [
    {
     "data": {
      "text/plain": [
       "array([ 5.12 , 16.129,  5.12 ,  5.12 ,  5.12 ])"
      ]
     },
     "execution_count": 45,
     "metadata": {},
     "output_type": "execute_result"
    }
   ],
   "source": [
    "np.diff(fr.get_time()[17:23])"
   ]
  },
  {
   "cell_type": "code",
   "execution_count": 42,
   "id": "fd527b75",
   "metadata": {},
   "outputs": [
    {
     "data": {
      "text/plain": [
       "FlimReader object :\n",
       "\n",
       "\tFilename : NP5XXMCamuiStimRepROI012.flim\n",
       "\n",
       "\tInfo : FlimInfo :\n",
       "\n",
       "AcquisitionParameters : \n",
       "\tpixelsPerLine : 64\n",
       "\tlinesPerFrame : 64\n",
       "\tmaxNFramePerFile : 4000\n",
       "\taveFrame : True\n",
       "\taveFrameSeparately : False\n",
       "\tresonantScanning : False\n",
       "\taveFrameA : [True, True]\n",
       "\taveSlice : False\n",
       "\tZStack : False\n",
       "\tacqFLIM : True\n",
       "\tacqFLIMA : [True, True]\n",
       "\tacquisition : [True, True]\n",
       "\tnAveFrame : 40\n",
       "\tnAveFrame_focus : 1\n",
       "\tnAveragedFrames : 20\n",
       "\tnFrames : 800\n",
       "\tnSlices : 2\n",
       "\tnAveSlice : 1\n",
       "\tnAveragedSlices : 2\n",
       "\tnImages : 2\n",
       "\tlinesPerStripe : 32\n",
       "\tStripeDuringFocus : False\n",
       "\tBiDirectionalScan : False\n",
       "\tSineWaveScan : False\n",
       "\tflipXYScan : [False, False]\n",
       "\tswitchXYScanToMotor : False\n",
       "\tflipDirectionOfScanToMotor : [False, False]\n",
       "\tswitchXYScan : False\n",
       "\tLineClockDelay_us : 0\n",
       "\tnStripes : 1\n",
       "\tfastZScan : False\n",
       "\tscanZWithPiezo : False\n",
       "\tscanZWithPiezoRange_um : [0, 100]\n",
       "\tcurrentPositionPiezo_V : 0\n",
       "\tfillFraction : 0.55\n",
       "\tscanFraction : 0.7\n",
       "\tScanDelay : 0.08\n",
       "\tEOMDelay : 0\n",
       "\tresonantScanDelay_us : 2\n",
       "\tresonantEOMDelay_us : 0\n",
       "\tmsPerLine : 2\n",
       "\tSliceMergin : 0\n",
       "\tFOV_default : [260, 260]\n",
       "\tobject_magnification_default : 60\n",
       "\tfield_of_view : [975, 975]\n",
       "\tobject_magnification : 16\n",
       "\tscanVoltageMultiplier : [1, 1]\n",
       "\tzoom : 7\n",
       "\tXMaxVoltage : 4.5\n",
       "\tYMaxVoltage : 4.5\n",
       "\tYMaxVoltage_Resonant : 5\n",
       "\tRotation : 0\n",
       "\tXOffset : -0.12\n",
       "\tYOffset : -0.318214285714286\n",
       "\tnSplitScanning : 0\n",
       "\tXOffset_Split : [0, 0, 0, 0]\n",
       "\tYOffset_Split : [0, 0, 0, 0]\n",
       "\tRotation_Split : [0, 0, 0, 0]\n",
       "\tYOffset_Resonant : 0\n",
       "\timageInterval : 0\n",
       "\tsliceInterval : 102.4\n",
       "\tsliceStep : 1\n",
       "\tnChannels : 2\n",
       "\tresonantOutputRate : 512000\n",
       "\toutputRate : 250000\n",
       "\tinputRate : 250000\n",
       "\ttriggerTime : 2022-06-27T18:04:30.419\n",
       "\tpower : [15, 16, 10, 26]\n",
       "\texternalTrigger : False\n",
       "\tExpectedLaserPulseRate_MHz : 80\n",
       "\tenableMiniScopeClock : False\n",
       "\tFClkFreq : 240000\n",
       "\tSClkFreq : 60000\n",
       "\tFastZ_nSlices : 1\n",
       "\tFastZ_msPerLine : 1.9\n",
       "\tFastZ_Freq : 310000\n",
       "\tFastZ_Amp : 8\n",
       "\tFastZ_phase_detection_mode : False\n",
       "\tFastZ_Phase : [15, 15, 15]\n",
       "\tFastZ_PhaseRange : [35, 145]\n",
       "\tFastZ_umPerSlice : 19.0972222222222\n",
       "\tFastZ_degreePerSlice : 110\n",
       "\n",
       "\n",
       "SPCParameters : \n",
       "\tanalysis.offset : [1.18507836595867, NaN]\n",
       "\tanalysis.fit_range1 : [7, 60]\n",
       "\tanalysis.fit_range2 : [3, 60]\n",
       "\tanalysis.fit_param1 : [3478.1, 2.764, 8542.6, 1.238, 0.063, 1.185]\n",
       "\tanalysis.fit_param2 : [0, NaN, 0, NaN, 0.1, 0.5]\n",
       "\tdatainfo.syncRate : [80309680, 0]\n",
       "\tdatainfo.countRate : [70980, 0]\n",
       "\tspcData.BoardType : PQ\n",
       "\tspcData.channelPerDevice : 2\n",
       "\tspcData.nDevices : 1\n",
       "\tspcData.n_dataPoint : 64\n",
       "\tspcData.startPoint : 0\n",
       "\tspcData.binning : 3\n",
       "\tspcData.HW_Model : THarp 260 P\n",
       "\tspcData.BH_DLLDir : C:\\Program Files (x86)\\BH\\SPCM\\DLL\n",
       "\tspcData.BH_init_file : C:\\Program Files (x86)\\BH\\SPCM\\DLL\\spcm.ini\n",
       "\tspcData.device : 0\n",
       "\tspcData.time_per_unit : 1.24517990857391e-08\n",
       "\tspcData.resolution : [200, 200]\n",
       "\tspcData.sync_divider : [4, 4]\n",
       "\tspcData.sync_threshold : [-2, -50]\n",
       "\tspcData.sync_zc_level : [0, 0]\n",
       "\tspcData.sync_offset : -5600\n",
       "\tspcData.ch_threshold : [-20, -20]\n",
       "\tspcData.ch_zc_level : [0, 0]\n",
       "\tspcData.ch_offset : [-40, 0]\n",
       "\tspcData.line_time_correction : 1\n",
       "\tspcData.measured_line_time_correction : 1\n",
       "\tspcData.SkipFirstLines : 0\n",
       "\tspcData.pixel_binning : 0\n",
       "\tspcData.n_devicesPQ : 1\n",
       "\tspcData.channelPerDevicePQ : 2\n",
       "\tspcData.TagID : 2\n",
       "\tspcData.FrameID : -1\n",
       "\tspcData.acq_modePQ : 3\n",
       "\tspcData.lineID_PQ : 3\n",
       "\tspcData.n_devicesBH : 2\n",
       "\tspcData.channelPerDeviceBH : 1\n",
       "\tspcData.acq_modeBH : 5\n",
       "\tspcData.lineID_BH : 1\n",
       "\tspcData.adc_res : 6\n",
       "\tspcData.tac_range : [50, 50]\n",
       "\tspcData.tac_gain : [4, 4]\n",
       "\tspcData.tac_offset : [5, 5]\n",
       "\tspcData.tac_limit_low : [5, 5]\n",
       "\tspcData.tac_limit_high : [95, 95]\n",
       "\tspcData.module_type : 150\n",
       "\n",
       "\n",
       "UncagingParameters : \n",
       "\tname : 30sPulse\n",
       "\tpulse_number : 3\n",
       "\tuncage_whileImage : True\n",
       "\tsync_withFrame : False\n",
       "\tsync_withSlice : True\n",
       "\tFramesBeforeUncage : 0\n",
       "\tSlicesBeforeUncage : 1\n",
       "\tUncage_FrameInterval : 82.82\n",
       "\tUncage_SliceInterval : 1\n",
       "\tAnalogShutter_delay : 0\n",
       "\tDigitalShutter_delay : -2000\n",
       "\tMirror_delay : 4\n",
       "\tshutter_activeHigh : True\n",
       "\tnPulses : 1\n",
       "\tpulseWidth : 10000\n",
       "\tpulseISI : 0\n",
       "\tpulseDelay : 100\n",
       "\tsampleLength : 10601\n",
       "\toutputRate : 5000\n",
       "\tbaselineBeforeTrain_forFrame : 0\n",
       "\tpulseSetInterval_forFrame : 10601\n",
       "\ttrainRepeat : 1\n",
       "\ttrainInterval : 10601\n",
       "\tPower : 0\n",
       "\tPosition : [0.526041666666667, 0.223958333333333]\n",
       "\tPositionV : [-0.103258928571428, -0.495669642857143]\n",
       "\tCalibV : [0, 0]\n",
       "\tmultiUncagingPosition : False\n",
       "\trotatePosition : False\n",
       "\tcurrentPosition : 0\n",
       "\tUncagingPositionsX : [0]\n",
       "\tUncagingPositionsY : [0]\n",
       "\tUncagingPositionsVX : [0]\n",
       "\tUncagingPositionsVY : [0]\n",
       "\tMoveMirrorsToUncagingPosition : False\n",
       "\tTurnOffImagingDuringUncaging : True\n",
       "\n",
       "\n",
       "MotorParameters : \n",
       "\tstepXY : 200\n",
       "\tstepZ : 100\n",
       "\tvelocity : [0, 1500, 1500]\n",
       "\tresolutionX : 1000\n",
       "\tresolutionY : 1000\n",
       "\tresolutionZ : 1000\n",
       "\tmotorPosition : [-174808560.52057, -1422.400224, -800.7]\n",
       "\tpositionID : 0\n",
       "\n"
      ]
     },
     "execution_count": 42,
     "metadata": {},
     "output_type": "execute_result"
    }
   ],
   "source": [
    "fr"
   ]
  },
  {
   "cell_type": "code",
   "execution_count": null,
   "id": "9bc5e1e1",
   "metadata": {},
   "outputs": [],
   "source": []
  }
 ],
 "metadata": {
  "kernelspec": {
   "display_name": "Python 3 (ipykernel)",
   "language": "python",
   "name": "python3"
  },
  "language_info": {
   "codemirror_mode": {
    "name": "ipython",
    "version": 3
   },
   "file_extension": ".py",
   "mimetype": "text/x-python",
   "name": "python",
   "nbconvert_exporter": "python",
   "pygments_lexer": "ipython3",
   "version": "3.9.12"
  }
 },
 "nbformat": 4,
 "nbformat_minor": 5
}
